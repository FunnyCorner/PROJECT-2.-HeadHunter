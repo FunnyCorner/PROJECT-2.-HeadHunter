{
  "nbformat": 4,
  "nbformat_minor": 0,
  "metadata": {
    "colab": {
      "provenance": [],
      "authorship_tag": "ABX9TyMKTtpmDWlECDdp+3n18YA/",
      "include_colab_link": true
    },
    "kernelspec": {
      "name": "python3",
      "display_name": "Python 3"
    },
    "language_info": {
      "name": "python"
    }
  },
  "cells": [
    {
      "cell_type": "markdown",
      "metadata": {
        "id": "view-in-github",
        "colab_type": "text"
      },
      "source": [
        "<a href=\"https://colab.research.google.com/github/FunnyCorner/PROJECT-2.-HeadHunter/blob/main/Project2.ipynb\" target=\"_parent\"><img src=\"https://colab.research.google.com/assets/colab-badge.svg\" alt=\"Open In Colab\"/></a>"
      ]
    },
    {
      "cell_type": "code",
      "execution_count": 105,
      "metadata": {
        "id": "K8An8Mb3P2jJ"
      },
      "outputs": [],
      "source": [
        "import psycopg2\n",
        "import pandas as pd\n",
        "\n",
        "# Параметры подключения\n",
        "DBNAME = 'project_sql'\n",
        "USER = 'skillfactory'\n",
        "PASSWORD = 'cCkxxLVrDE8EbvjueeMedPKt'\n",
        "HOST = '84.201.134.129'\n",
        "PORT = 5432\n",
        "\n",
        "# Подключение к базе данных\n",
        "connection = psycopg2.connect(\n",
        "    dbname=DBNAME,\n",
        "    user=USER,\n",
        "    host=HOST,\n",
        "    password=PASSWORD,\n",
        "    port=PORT\n",
        ")\n",
        "\n",
        "# Создание курсора\n",
        "cursor = connection.cursor()\n"
      ]
    },
    {
      "cell_type": "markdown",
      "source": [
        "3.1Сколько вакансий есть в базе?"
      ],
      "metadata": {
        "id": "GAFmGVHIldtG"
      }
    },
    {
      "cell_type": "code",
      "source": [
        "\n",
        "query = \"SELECT COUNT(*) as vacancy_count FROM vacancies;\"\n",
        "cursor.execute(query)\n",
        "\n",
        "# Извлечение результата\n",
        "vacancy_count = cursor.fetchone()[0]\n",
        "\n",
        "# Закрытие курсора и соединения\n",
        "cursor.close()\n",
        "connection.close()\n",
        "\n",
        "print(f\"Количество вакансий в базе: {vacancy_count}\")"
      ],
      "metadata": {
        "colab": {
          "base_uri": "https://localhost:8080/"
        },
        "id": "pgSxWRo9lXDm",
        "outputId": "5b463afb-f09f-4da0-ec1f-98e6d90f81de"
      },
      "execution_count": 50,
      "outputs": [
        {
          "output_type": "stream",
          "name": "stdout",
          "text": [
            "Количество вакансий в базе: 49197\n"
          ]
        }
      ]
    },
    {
      "cell_type": "markdown",
      "source": [
        "3.2Сколько работодателей?"
      ],
      "metadata": {
        "id": "hm_yYIgBl4z4"
      }
    },
    {
      "cell_type": "code",
      "source": [
        "query = \"SELECT COUNT(*) as employer_count FROM employers;\"\n",
        "cursor.execute(query)\n",
        "\n",
        "# Извлечение результата\n",
        "employer_count = cursor.fetchone()[0]\n",
        "\n",
        "# Закрытие курсора и соединения\n",
        "cursor.close()\n",
        "connection.close()\n",
        "\n",
        "print(f\"Количество работодателей в базе: {employer_count}\")"
      ],
      "metadata": {
        "colab": {
          "base_uri": "https://localhost:8080/"
        },
        "id": "O1OZRKwQl5av",
        "outputId": "f66a49bf-a8c9-4460-9a81-7ae695a16942"
      },
      "execution_count": 35,
      "outputs": [
        {
          "output_type": "stream",
          "name": "stdout",
          "text": [
            "Количество работодателей в базе: 23501\n"
          ]
        }
      ]
    },
    {
      "cell_type": "markdown",
      "source": [
        "3.3Сколько регионов?\n",
        "\n"
      ],
      "metadata": {
        "id": "Yg-bbAlfmBWA"
      }
    },
    {
      "cell_type": "code",
      "source": [
        "query = \"SELECT COUNT(*) as area_count FROM areas;\"\n",
        "cursor.execute(query)\n",
        "\n",
        "# Извлечение результата\n",
        "area_count = cursor.fetchone()[0]\n",
        "\n",
        "# Закрытие курсора и соединения\n",
        "cursor.close()\n",
        "connection.close()\n",
        "\n",
        "print(f\"Количество регионов в базе: {area_count}\")"
      ],
      "metadata": {
        "colab": {
          "base_uri": "https://localhost:8080/"
        },
        "id": "Y4WVskzFmB1X",
        "outputId": "1be6f546-e4d3-4481-ebc9-de189ea4ecfc"
      },
      "execution_count": 38,
      "outputs": [
        {
          "output_type": "stream",
          "name": "stdout",
          "text": [
            "Количество регионов в базе: 1362\n"
          ]
        }
      ]
    },
    {
      "cell_type": "markdown",
      "source": [
        "3.4Сколько сфер деятельности?"
      ],
      "metadata": {
        "id": "Z4PPaLcgmPkm"
      }
    },
    {
      "cell_type": "code",
      "source": [
        "query = \"SELECT COUNT(*) as industry_count FROM industries;\"\n",
        "cursor.execute(query)\n",
        "\n",
        "# Извлечение результата\n",
        "industry_count = cursor.fetchone()[0]\n",
        "\n",
        "# Закрытие курсора и соединения\n",
        "cursor.close()\n",
        "connection.close()\n",
        "\n",
        "print(f\"Количество сфер деятельности в базе: {industry_count}\")"
      ],
      "metadata": {
        "colab": {
          "base_uri": "https://localhost:8080/"
        },
        "id": "9hPg177ZmQPJ",
        "outputId": "a579db9d-5ee1-4f7d-95bd-941bcc3ab13e"
      },
      "execution_count": 40,
      "outputs": [
        {
          "output_type": "stream",
          "name": "stdout",
          "text": [
            "Количество сфер деятельности в базе: 294\n"
          ]
        }
      ]
    },
    {
      "cell_type": "markdown",
      "source": [
        "Выводы. Задания 3.1 по 3.4:В базе данных содержится 49197 вакансий от 23501 работодателей, что свидетельствует о значительном количестве предложений на рынке труда.\n",
        "Вакансии распределены по 1362 регионам и охватывают 294 сферы деятельности, что указывает на широкий географический и профессиональный охват."
      ],
      "metadata": {
        "id": "uYRWooUxwqOy"
      }
    },
    {
      "cell_type": "markdown",
      "source": [
        "4.1Напишите запрос, который позволит узнать, сколько (cnt) вакансий в каждом регионе (area).\n",
        "\n",
        "Выберите пятёрку лидеров по количеству вакансий:"
      ],
      "metadata": {
        "id": "6VJveRvdmbJL"
      }
    },
    {
      "cell_type": "code",
      "source": [
        "query = \"\"\"\n",
        "    SELECT\n",
        "        a.name as area,\n",
        "        COUNT(v.id) as cnt\n",
        "    FROM\n",
        "        vacancies v\n",
        "    JOIN\n",
        "        areas a ON v.area_id = a.id\n",
        "    GROUP BY\n",
        "        a.name\n",
        "    ORDER BY\n",
        "        cnt DESC\n",
        "    LIMIT 5;\n",
        "\"\"\"\n",
        "cursor.execute(query)\n",
        "\n",
        "# Извлечение результата\n",
        "top_areas = cursor.fetchall()\n",
        "\n",
        "# Закрытие курсора и соединения\n",
        "cursor.close()\n",
        "connection.close()\n",
        "\n",
        "# Печать результатов\n",
        "for area, cnt in top_areas:\n",
        "    print(f\"Регион: {area}, Количество вакансий: {cnt}\")"
      ],
      "metadata": {
        "colab": {
          "base_uri": "https://localhost:8080/"
        },
        "id": "IQBVjTP5mfEe",
        "outputId": "c88cbf70-76d2-4cef-93f5-315ac77bd410"
      },
      "execution_count": 47,
      "outputs": [
        {
          "output_type": "stream",
          "name": "stdout",
          "text": [
            "Регион: Москва, Количество вакансий: 5333\n",
            "Регион: Санкт-Петербург, Количество вакансий: 2851\n",
            "Регион: Минск, Количество вакансий: 2112\n",
            "Регион: Новосибирск, Количество вакансий: 2006\n",
            "Регион: Алматы, Количество вакансий: 1892\n"
          ]
        }
      ]
    },
    {
      "cell_type": "markdown",
      "source": [
        "4.2Посмотрим на зарплаты. У какого количества вакансий заполнено хотя бы одно из двух полей с зарплатой?"
      ],
      "metadata": {
        "id": "Xp4Qof3MnFAk"
      }
    },
    {
      "cell_type": "code",
      "source": [
        "query = \"\"\"\n",
        "    SELECT\n",
        "        COUNT(*) as vacancy_count\n",
        "    FROM\n",
        "        vacancies\n",
        "    WHERE\n",
        "        salary_from IS NOT NULL\n",
        "        OR salary_to IS NOT NULL;\n",
        "\"\"\"\n",
        "cursor.execute(query)\n",
        "\n",
        "# Извлечение результата\n",
        "vacancy_count = cursor.fetchone()[0]\n",
        "\n",
        "# Закрытие курсора и соединения\n",
        "cursor.close()\n",
        "connection.close()\n",
        "\n",
        "print(f\"Количество вакансий с заполненным хотя бы одним полем зарплаты: {vacancy_count}\")"
      ],
      "metadata": {
        "colab": {
          "base_uri": "https://localhost:8080/"
        },
        "id": "ONjKmpBBnF1n",
        "outputId": "df009124-b258-4b52-9d33-9b2b93c9f294"
      },
      "execution_count": 53,
      "outputs": [
        {
          "output_type": "stream",
          "name": "stdout",
          "text": [
            "Количество вакансий с заполненным хотя бы одним полем зарплаты: 24073\n"
          ]
        }
      ]
    },
    {
      "cell_type": "markdown",
      "source": [
        "4.3Найдите средние значения для нижней и верхней границы зарплатной вилки. Округлите значения до целого числа."
      ],
      "metadata": {
        "id": "Uzp9tqh3nNgY"
      }
    },
    {
      "cell_type": "code",
      "source": [
        "query = \"\"\"\n",
        "    SELECT\n",
        "        ROUND(AVG(salary_from)) as avg_salary_from,\n",
        "        ROUND(AVG(salary_to)) as avg_salary_to\n",
        "    FROM\n",
        "        vacancies\n",
        "    WHERE\n",
        "        salary_from IS NOT NULL\n",
        "        AND salary_to IS NOT NULL;\n",
        "\"\"\"\n",
        "cursor.execute(query)\n",
        "\n",
        "# Извлечение результата\n",
        "result = cursor.fetchone()\n",
        "avg_salary_from = result[0]\n",
        "avg_salary_to = result[1]\n",
        "\n",
        "# Закрытие курсора и соединения\n",
        "cursor.close()\n",
        "connection.close()\n",
        "\n",
        "print(f\"Средняя нижняя граница зарплатной вилки: {avg_salary_from}\")\n",
        "print(f\"Средняя верхняя граница зарплатной вилки: {avg_salary_to}\")"
      ],
      "metadata": {
        "colab": {
          "base_uri": "https://localhost:8080/"
        },
        "id": "xzWfbkfOnTCm",
        "outputId": "36e89466-b3ca-409c-9405-b95179bcaadc"
      },
      "execution_count": 55,
      "outputs": [
        {
          "output_type": "stream",
          "name": "stdout",
          "text": [
            "Средняя нижняя граница зарплатной вилки: 70484\n",
            "Средняя верхняя граница зарплатной вилки: 107664\n"
          ]
        }
      ]
    },
    {
      "cell_type": "markdown",
      "source": [
        "4.4Напишите запрос, который выведет количество вакансий для каждого сочетания типа рабочего графика (schedule) и типа трудоустройства (employment), используемого в вакансиях. Какая пара находится на втором месте по популярности?"
      ],
      "metadata": {
        "id": "fN4ZyRgpnb7U"
      }
    },
    {
      "cell_type": "code",
      "source": [
        "query = \"\"\"\n",
        "    SELECT\n",
        "        schedule,\n",
        "        employment,\n",
        "        COUNT(*) as vacancy_count\n",
        "    FROM\n",
        "        vacancies\n",
        "    GROUP BY\n",
        "        schedule, employment\n",
        "    ORDER BY\n",
        "        vacancy_count DESC\n",
        "    LIMIT 2;  -- Для нахождения второй по популярности пары\n",
        "\"\"\"\n",
        "cursor.execute(query)\n",
        "\n",
        "# Извлечение результата\n",
        "result = cursor.fetchall()\n",
        "\n",
        "# Закрытие курсора и соединения\n",
        "cursor.close()\n",
        "connection.close()\n",
        "\n",
        "# Печать результатов\n",
        "for i, row in enumerate(result):\n",
        "    schedule, employment, vacancy_count = row\n",
        "    print(f\"Место {i+1}: {schedule}, {employment}, Количество вакансий: {vacancy_count}\")"
      ],
      "metadata": {
        "colab": {
          "base_uri": "https://localhost:8080/"
        },
        "id": "9rCeWgJLnkrX",
        "outputId": "fa1baccc-1eac-4e73-e2a1-e22eb33993c4"
      },
      "execution_count": 57,
      "outputs": [
        {
          "output_type": "stream",
          "name": "stdout",
          "text": [
            "Место 1: Полный день, Полная занятость, Количество вакансий: 35367\n",
            "Место 2: Удаленная работа, Полная занятость, Количество вакансий: 7802\n"
          ]
        }
      ]
    },
    {
      "cell_type": "markdown",
      "source": [
        "4.5Напишите запрос, выводящий значения поля Требуемый опыт работы (experience) в порядке возрастания количества вакансий, в которых указан данный вариант опыта."
      ],
      "metadata": {
        "id": "Xon0q74GnvFQ"
      }
    },
    {
      "cell_type": "code",
      "source": [
        "query = \"\"\"\n",
        "    SELECT\n",
        "        experience,\n",
        "        COUNT(*) as vacancy_count\n",
        "    FROM\n",
        "        vacancies\n",
        "    GROUP BY\n",
        "        experience\n",
        "    ORDER BY\n",
        "        vacancy_count ASC;\n",
        "\"\"\"\n",
        "cursor.execute(query)\n",
        "\n",
        "# Извлечение результата\n",
        "result = cursor.fetchall()\n",
        "\n",
        "# Закрытие курсора и соединения\n",
        "cursor.close()\n",
        "connection.close()\n",
        "\n",
        "# Печать результатов\n",
        "for row in result:\n",
        "    experience, vacancy_count = row\n",
        "    print(f\"Требуемый опыт работы: {experience}, Количество вакансий: {vacancy_count}\")"
      ],
      "metadata": {
        "colab": {
          "base_uri": "https://localhost:8080/"
        },
        "id": "D0bWaradnvzn",
        "outputId": "3fac6a27-8599-40da-a7cb-718f2bd527cf"
      },
      "execution_count": 61,
      "outputs": [
        {
          "output_type": "stream",
          "name": "stdout",
          "text": [
            "Требуемый опыт работы: Более 6 лет, Количество вакансий: 1337\n",
            "Требуемый опыт работы: Нет опыта, Количество вакансий: 7197\n",
            "Требуемый опыт работы: От 3 до 6 лет, Количество вакансий: 14511\n",
            "Требуемый опыт работы: От 1 года до 3 лет, Количество вакансий: 26152\n"
          ]
        }
      ]
    },
    {
      "cell_type": "markdown",
      "source": [
        "Вывода по заданиям с 4.1 по 4.5:Наибольшее количество вакансий в Москве (5333), Санкт-Петербурге (2851), Минске (2112), Новосибирске (2006) и Алматы (1892).\n",
        "Москва и Санкт-Петербург доминируют на рынке труда по количеству вакансий, что ожидаемо для крупнейших экономических центров.В 24073 вакансиях указана зарплата, со средней нижней границей 70484 руб. и средней верхней границей 107664 руб., что дает представление о средней вилке зарплат.Полный день и полная занятость (35367 вакансий) являются наиболее популярными типами занятости.\n",
        "Удаленная работа с полной занятостью (7802 вакансии) также весьма востребована.аибольшее количество вакансий требует опыта от 1 до 3 лет (26152 вакансий).\n",
        "Меньше всего вакансий для специалистов с опытом более 6 лет (1337 вакансий), что может свидетельствовать о высоком спросе на специалистов начального и среднего уровня."
      ],
      "metadata": {
        "id": "Vg5OsCsbxFSf"
      }
    },
    {
      "cell_type": "markdown",
      "source": [
        "5.1Напишите запрос, который позволит узнать, какие работодатели находятся на первом и пятом месте по количеству вакансий.\n",
        "\n"
      ],
      "metadata": {
        "id": "dPbPQ3UuoA-r"
      }
    },
    {
      "cell_type": "code",
      "source": [
        "query = \"\"\"\n",
        "    WITH ranked_employers AS (\n",
        "        SELECT\n",
        "            employer_id,\n",
        "            COUNT(*) as vacancy_count,\n",
        "            ROW_NUMBER() OVER (ORDER BY COUNT(*) DESC) as rn\n",
        "        FROM\n",
        "            vacancies\n",
        "        GROUP BY\n",
        "            employer_id\n",
        "    )\n",
        "    SELECT\n",
        "        e.name,\n",
        "        re.vacancy_count,\n",
        "        re.rn\n",
        "    FROM\n",
        "        ranked_employers re\n",
        "    JOIN\n",
        "        employers e ON re.employer_id = e.id\n",
        "    WHERE\n",
        "        re.rn IN (1, 5);\n",
        "\"\"\"\n",
        "cursor.execute(query)\n",
        "\n",
        "# Извлечение результата\n",
        "result = cursor.fetchall()\n",
        "\n",
        "# Закрытие курсора и соединения\n",
        "cursor.close()\n",
        "connection.close()\n",
        "\n",
        "# Печать результатов\n",
        "for row in result:\n",
        "    name, vacancy_count, rn = row\n",
        "    print(f\"Место {rn}: Работодатель: {name}, Количество вакансий: {vacancy_count}\")"
      ],
      "metadata": {
        "colab": {
          "base_uri": "https://localhost:8080/"
        },
        "id": "TeQDi1MloCfr",
        "outputId": "32283fd8-8e5f-4c11-ffa9-39acf7b1ba6e"
      },
      "execution_count": 63,
      "outputs": [
        {
          "output_type": "stream",
          "name": "stdout",
          "text": [
            "Место 1: Работодатель: Яндекс, Количество вакансий: 1933\n",
            "Место 5: Работодатель: Газпром нефть, Количество вакансий: 331\n"
          ]
        }
      ]
    },
    {
      "cell_type": "markdown",
      "source": [
        "5.2Напишите запрос, который для каждого региона выведет количество работодателей и вакансий в нём.\n",
        "\n",
        "Среди регионов, в которых нет вакансий, найдите тот, в котором наибольшее количество работодателей. Впишите его название в поле ниже в том виде, который вернул запрос."
      ],
      "metadata": {
        "id": "vvdX4hAMoUsM"
      }
    },
    {
      "cell_type": "code",
      "source": [
        "query = \"\"\"\n",
        "   SELECT\n",
        "    a.name,\n",
        "    COUNT(DISTINCT e.id) AS employer_count,\n",
        "    COUNT(v.id) AS vacancy_count\n",
        "FROM\n",
        "    areas a\n",
        "LEFT JOIN\n",
        "    vacancies v ON a.id = v.area_id\n",
        "LEFT JOIN\n",
        "    employers e ON v.employer_id = e.id\n",
        "GROUP BY\n",
        "    a.name\n",
        "HAVING\n",
        "    COUNT(v.id) = 0\n",
        "ORDER BY\n",
        "    employer_count DESC\n",
        "LIMIT 1;\n",
        "\"\"\"\n",
        "cursor.execute(query)\n",
        "\n",
        "# Извлечение результата\n",
        "result = cursor.fetchall()\n",
        "\n",
        "# Закрытие курсора и соединения\n",
        "cursor.close()\n",
        "connection.close()\n",
        "\n",
        "# Печать результатов\n",
        "for row in result:\n",
        "    area, employer_count, vacancy_count = row\n",
        "    print(f\"Регион: {area}, Количество работодателей: {employer_count}, Количество вакансий: {vacancy_count}\")"
      ],
      "metadata": {
        "colab": {
          "base_uri": "https://localhost:8080/"
        },
        "id": "fVkvhZi6oVgp",
        "outputId": "683bc25b-dcc6-4d99-ffa1-0bba60763b6c"
      },
      "execution_count": 68,
      "outputs": [
        {
          "output_type": "stream",
          "name": "stdout",
          "text": [
            "Регион: Абатское, Количество работодателей: 0, Количество вакансий: 0\n"
          ]
        }
      ]
    },
    {
      "cell_type": "markdown",
      "source": [
        "5.3Для каждого работодателя посчитайте количество регионов, в которых он публикует свои вакансии.\n",
        "\n",
        "Выберите максимальное значение из получившегося списка."
      ],
      "metadata": {
        "id": "gsuvGQ4Zpql5"
      }
    },
    {
      "cell_type": "code",
      "source": [
        "query = \"\"\"\n",
        "    SELECT\n",
        "        MAX(region_count) as max_region_count\n",
        "    FROM (\n",
        "        SELECT\n",
        "            employer_id,\n",
        "            COUNT(DISTINCT area_id) as region_count\n",
        "        FROM\n",
        "            vacancies\n",
        "        GROUP BY\n",
        "            employer_id\n",
        "    ) as subquery;\n",
        "\"\"\"\n",
        "cursor.execute(query)\n",
        "\n",
        "# Извлечение результата\n",
        "result = cursor.fetchone()\n",
        "\n",
        "# Закрытие курсора и соединения\n",
        "cursor.close()\n",
        "connection.close()\n",
        "\n",
        "# Печать результата\n",
        "if result:\n",
        "    max_region_count = result[0]\n",
        "    print(f\"Максимальное количество регионов, в которых работодатель публикует свои вакансии: {max_region_count}\")\n",
        "else:\n",
        "    print(\"Не найдено данных\")"
      ],
      "metadata": {
        "colab": {
          "base_uri": "https://localhost:8080/"
        },
        "id": "0J87Rv_xpt9K",
        "outputId": "d915cf24-fbda-466b-91a3-5d5666445621"
      },
      "execution_count": 79,
      "outputs": [
        {
          "output_type": "stream",
          "name": "stdout",
          "text": [
            "Максимальное количество регионов, в которых работодатель публикует свои вакансии: 181\n"
          ]
        }
      ]
    },
    {
      "cell_type": "markdown",
      "source": [
        "5.4Напишите запрос для подсчёта количества работодателей, у которых не указана сфера деятельности.\n",
        "\n",
        "Введите количество, которое вернул запрос, в поле ниже."
      ],
      "metadata": {
        "id": "mMeKzuzIo6Yd"
      }
    },
    {
      "cell_type": "code",
      "source": [
        "query = \"\"\"\n",
        "    SELECT\n",
        "        COUNT(*) as employer_count\n",
        "    FROM\n",
        "        employers e\n",
        "    LEFT JOIN\n",
        "        employers_industries ei ON e.id = ei.employer_id\n",
        "    WHERE\n",
        "        ei.industry_id IS NULL;\n",
        "\"\"\"\n",
        "cursor.execute(query)\n",
        "\n",
        "# Извлечение результата\n",
        "result = cursor.fetchone()\n",
        "\n",
        "# Закрытие курсора и соединения\n",
        "cursor.close()\n",
        "connection.close()\n",
        "\n",
        "# Печать результата\n",
        "if result:\n",
        "    employer_count = result[0]\n",
        "    print(f\"Количество работодателей без указанной сферы деятельности: {employer_count}\")\n",
        "else:\n",
        "    print(\"Не найдено данных\")"
      ],
      "metadata": {
        "colab": {
          "base_uri": "https://localhost:8080/"
        },
        "id": "pdr0cBygo9fj",
        "outputId": "d8daa23d-b5e0-4c26-b688-56b4c302a995"
      },
      "execution_count": 77,
      "outputs": [
        {
          "output_type": "stream",
          "name": "stdout",
          "text": [
            "Количество работодателей без указанной сферы деятельности: 8419\n"
          ]
        }
      ]
    },
    {
      "cell_type": "markdown",
      "source": [
        "5.5Напишите запрос, чтобы узнать название компании, находящейся на третьем месте в алфавитном списке (по названию) компаний, у которых указано четыре сферы деятельности.\n",
        "\n",
        "Введите в поле ниже название этой компании так же, как оно указано в результате запроса."
      ],
      "metadata": {
        "id": "sCRMAWMBqCQd"
      }
    },
    {
      "cell_type": "code",
      "source": [
        "query = \"\"\"\n",
        "    SELECT\n",
        "        e.name AS company_name\n",
        "    FROM\n",
        "        employers e\n",
        "    JOIN\n",
        "        employers_industries ei ON e.id = ei.employer_id\n",
        "    GROUP BY\n",
        "        e.id\n",
        "    HAVING\n",
        "        COUNT(ei.industry_id) = 4\n",
        "    ORDER BY\n",
        "        e.name\n",
        "    OFFSET 2 LIMIT 1;\n",
        "\"\"\"\n",
        "cursor.execute(query)\n",
        "\n",
        "# Извлечение результата\n",
        "result = cursor.fetchone()\n",
        "\n",
        "# Закрытие курсора и соединения\n",
        "cursor.close()\n",
        "connection.close()\n",
        "\n",
        "# Печать результата\n",
        "if result:\n",
        "    company_name = result[0]\n",
        "    print(f\"Компания на третьем месте в алфавитном списке компаний с четырьмя сферами деятельности: {company_name}\")\n",
        "else:\n",
        "    print(\"Не найдено данных\")"
      ],
      "metadata": {
        "colab": {
          "base_uri": "https://localhost:8080/"
        },
        "id": "DnYxNgusqBd5",
        "outputId": "70b65643-49a0-4e54-fef2-fa40b5e6031e"
      },
      "execution_count": 84,
      "outputs": [
        {
          "output_type": "stream",
          "name": "stdout",
          "text": [
            "Компания на третьем месте в алфавитном списке компаний с четырьмя сферами деятельности: 2ГИС\n"
          ]
        }
      ]
    },
    {
      "cell_type": "markdown",
      "source": [
        "5.6 С помощью запроса выясните, у какого количества работодателей в качестве сферы деятельности указана «Разработка программного обеспечения»."
      ],
      "metadata": {
        "id": "MXlozSbOqT-E"
      }
    },
    {
      "cell_type": "code",
      "source": [
        "query = \"\"\"\n",
        "    SELECT\n",
        "        COUNT(DISTINCT e.id) AS software_development_employers\n",
        "    FROM\n",
        "        employers e\n",
        "    JOIN\n",
        "        employers_industries ei ON e.id = ei.employer_id\n",
        "    JOIN\n",
        "        industries i ON ei.industry_id = i.id\n",
        "    WHERE\n",
        "        i.name = 'Разработка программного обеспечения';\n",
        "\"\"\"\n",
        "cursor.execute(query)\n",
        "\n",
        "# Извлечение результата\n",
        "result = cursor.fetchone()\n",
        "\n",
        "# Закрытие курсора и соединения\n",
        "cursor.close()\n",
        "connection.close()\n",
        "\n",
        "# Печать результата\n",
        "if result:\n",
        "    software_development_employers = result[0]\n",
        "    print(f\"Количество работодателей в сфере 'Разработка программного обеспечения': {software_development_employers}\")\n",
        "else:\n",
        "    print(\"Не найдено данных\")"
      ],
      "metadata": {
        "colab": {
          "base_uri": "https://localhost:8080/"
        },
        "id": "F53Gp7mwqYXJ",
        "outputId": "44372488-d7c1-4347-8fb3-dc13d93c7db1"
      },
      "execution_count": 89,
      "outputs": [
        {
          "output_type": "stream",
          "name": "stdout",
          "text": [
            "Количество работодателей в сфере 'Разработка программного обеспечения': 3553\n"
          ]
        }
      ]
    },
    {
      "cell_type": "markdown",
      "source": [
        "5.7Для компании «Яндекс» выведите список регионов-миллионников , в которых представлены вакансии компании, вместе с количеством вакансий в этих регионах. Также добавьте строку Total с общим количеством вакансий компании, собранных в этой таблице. Должна получиться выборка такого вида (приведён пример результата для компании SberTech)"
      ],
      "metadata": {
        "id": "D7S2KFgDqnPu"
      }
    },
    {
      "cell_type": "code",
      "source": [
        "query = \"\"\"\n",
        "    WITH million_cities AS (\n",
        "        SELECT id, name\n",
        "        FROM areas\n",
        "        WHERE name IN (\n",
        "            'Москва', 'Санкт-Петербург', 'Новосибирск', 'Екатеринбург', 'Нижний Новгород', 'Казань',\n",
        "            'Челябинск', 'Омск', 'Самара', 'Ростов-на-Дону', 'Уфа', 'Красноярск', 'Пермь',\n",
        "            'Воронеж', 'Волгоград'\n",
        "        )\n",
        "    )\n",
        "    SELECT\n",
        "        a.name AS region,\n",
        "        COUNT(v.id) AS vacancies_count\n",
        "    FROM\n",
        "        vacancies v\n",
        "    JOIN\n",
        "        employers e ON v.employer_id = e.id\n",
        "    JOIN\n",
        "        million_cities a ON v.area_id = a.id\n",
        "    WHERE\n",
        "        e.name = 'Яндекс'\n",
        "    GROUP BY\n",
        "        a.name\n",
        "    ORDER BY\n",
        "        a.name;\n",
        "\"\"\"\n",
        "cursor.execute(query)\n",
        "\n",
        "# Извлечение результата\n",
        "result = cursor.fetchall()\n",
        "\n",
        "# Преобразование результата в DataFrame для удобного добавления строки Total\n",
        "df = pd.DataFrame(result, columns=['region', 'vacancies_count'])\n",
        "\n",
        "# Подсчет общего количества вакансий и добавление строки Total\n",
        "total_vacancies = df['vacancies_count'].sum()\n",
        "df.loc[len(df)] = ['Total', total_vacancies]\n",
        "\n",
        "# Закрытие курсора и соединения\n",
        "cursor.close()\n",
        "connection.close()\n",
        "\n",
        "# Печать результата\n",
        "print(df)\n",
        "\n",
        "# Печать количества строк в выборке\n",
        "print(f\"Количество строк в выборке: {len(df)}\")"
      ],
      "metadata": {
        "colab": {
          "base_uri": "https://localhost:8080/"
        },
        "id": "lrGjQzGRqqyk",
        "outputId": "a22643e5-1596-4324-d0ee-46f4aa65f2e2"
      },
      "execution_count": 92,
      "outputs": [
        {
          "output_type": "stream",
          "name": "stdout",
          "text": [
            "             region  vacancies_count\n",
            "0         Волгоград               24\n",
            "1           Воронеж               32\n",
            "2      Екатеринбург               39\n",
            "3            Казань               25\n",
            "4        Красноярск               23\n",
            "5            Москва               54\n",
            "6   Нижний Новгород               36\n",
            "7       Новосибирск               35\n",
            "8              Омск               21\n",
            "9             Пермь               25\n",
            "10   Ростов-на-Дону               25\n",
            "11           Самара               26\n",
            "12  Санкт-Петербург               42\n",
            "13              Уфа               26\n",
            "14        Челябинск               22\n",
            "15            Total              455\n",
            "Количество строк в выборке: 16\n"
          ]
        }
      ]
    },
    {
      "cell_type": "markdown",
      "source": [
        "выводы по заданиям с 5.1 по 5.7:Яндекс (1933 вакансии) и Газпром нефть (331 вакансия) являются лидерами по количеству предложений.8419 работодателей не указали свою сферу деятельности, что затрудняет анализ специфики их предложений.3553 работодателя работают в сфере разработки ПО.Яндекс имеет вакансии в 16 крупных городах, с общим количеством 455 ваканси"
      ],
      "metadata": {
        "id": "UAYREp_Bx-nO"
      }
    },
    {
      "cell_type": "markdown",
      "source": [
        "6.1Сколько вакансий имеет отношение к данным?"
      ],
      "metadata": {
        "id": "-Faf7JM9rEVp"
      }
    },
    {
      "cell_type": "code",
      "source": [
        "query = \"\"\"\n",
        "    SELECT\n",
        "        COUNT(*) as data_related_vacancies\n",
        "    FROM\n",
        "        vacancies\n",
        "    WHERE\n",
        "        LOWER(name) LIKE '%data%' OR LOWER(name) LIKE '%данн%';\n",
        "\"\"\"\n",
        "cursor.execute(query)\n",
        "\n",
        "# Извлечение результата\n",
        "result = cursor.fetchone()\n",
        "\n",
        "# Закрытие курсора и соединения\n",
        "cursor.close()\n",
        "connection.close()\n",
        "\n",
        "# Печать результата\n",
        "if result:\n",
        "    data_related_vacancies = result[0]\n",
        "    print(f\"Количество вакансий, имеющих отношение к данным: {data_related_vacancies}\")\n",
        "else:\n",
        "    print(\"Не найдено данных\")"
      ],
      "metadata": {
        "colab": {
          "base_uri": "https://localhost:8080/"
        },
        "id": "Q8OfFEJHrJOd",
        "outputId": "7686f1f6-43fb-4b32-95b1-60179dae3583"
      },
      "execution_count": 94,
      "outputs": [
        {
          "output_type": "stream",
          "name": "stdout",
          "text": [
            "Количество вакансий, имеющих отношение к данным: 1771\n"
          ]
        }
      ]
    },
    {
      "cell_type": "markdown",
      "source": [
        "6.2Сколько есть подходящих вакансий для начинающего дата-сайентиста?"
      ],
      "metadata": {
        "id": "3CMWgatrrQbJ"
      }
    },
    {
      "cell_type": "code",
      "source": [
        "query = \"\"\"\n",
        "    SELECT\n",
        "        COUNT(*) as suitable_vacancies\n",
        "    FROM\n",
        "        vacancies\n",
        "    WHERE\n",
        "        (LOWER(name) LIKE '%data scientist%' OR\n",
        "         LOWER(name) LIKE '%data science%' OR\n",
        "         LOWER(name) LIKE '%исследователь данных%' OR\n",
        "         (LOWER(name) LIKE '%ml%' AND LOWER(name) NOT LIKE '%html%') OR\n",
        "         LOWER(name) LIKE '%machine learning%' OR\n",
        "         LOWER(name) LIKE '%машинн%обучен%') AND\n",
        "        (LOWER(name) LIKE '%junior%' OR\n",
        "         experience = 'Нет опыта' OR\n",
        "         employment = 'Стажировка');\n",
        "\"\"\"\n",
        "cursor.execute(query)\n",
        "\n",
        "# Извлечение результата\n",
        "result = cursor.fetchone()\n",
        "\n",
        "# Закрытие курсора и соединения\n",
        "cursor.close()\n",
        "connection.close()\n",
        "\n",
        "# Печать результата\n",
        "if result:\n",
        "    suitable_vacancies = result[0]\n",
        "    print(f\"Количество подходящих вакансий для начинающего дата-сайентиста: {suitable_vacancies}\")\n",
        "else:\n",
        "    print(\"Не найдено данных\")"
      ],
      "metadata": {
        "colab": {
          "base_uri": "https://localhost:8080/"
        },
        "id": "UP-hN90WrUCg",
        "outputId": "789fd455-87b3-4c9b-dfb4-8821335b15be"
      },
      "execution_count": 96,
      "outputs": [
        {
          "output_type": "stream",
          "name": "stdout",
          "text": [
            "Количество подходящих вакансий для начинающего дата-сайентиста: 51\n"
          ]
        }
      ]
    },
    {
      "cell_type": "markdown",
      "source": [
        "6.3Сколько есть вакансий для DS, в которых в качестве ключевого навыка указан SQL или postgres?\n",
        "\n",
        "В качестве ответа запишите количество, которое вернул запрос."
      ],
      "metadata": {
        "id": "kLkEdMUZrf48"
      }
    },
    {
      "cell_type": "code",
      "source": [
        "query = \"\"\"\n",
        "    SELECT\n",
        "        COUNT(*) as ds_sql_postgres_vacancies\n",
        "    FROM\n",
        "        vacancies\n",
        "    WHERE\n",
        "        (LOWER(name) LIKE '%data scientist%' OR\n",
        "         LOWER(name) LIKE '%data science%' OR\n",
        "         LOWER(name) LIKE '%исследователь данных%' OR\n",
        "         (LOWER(name) LIKE '%ml%' AND LOWER(name) NOT LIKE '%html%') OR\n",
        "         LOWER(name) LIKE '%machine learning%' OR\n",
        "         LOWER(name) LIKE '%машинн%обучен%') AND\n",
        "        (LOWER(key_skills) LIKE '%sql%' OR\n",
        "         LOWER(key_skills) LIKE '%postgres%');\n",
        "\"\"\"\n",
        "cursor.execute(query)\n",
        "\n",
        "# Извлечение результата\n",
        "result = cursor.fetchone()\n",
        "\n",
        "# Закрытие курсора и соединения\n",
        "cursor.close()\n",
        "connection.close()\n",
        "\n",
        "# Печать результата\n",
        "if result:\n",
        "    ds_sql_postgres_vacancies = result[0]\n",
        "    print(f\"Количество вакансий для Data Scientist с ключевым навыком SQL или Postgres: {ds_sql_postgres_vacancies}\")\n",
        "else:\n",
        "    print(\"Не найдено данных\")"
      ],
      "metadata": {
        "colab": {
          "base_uri": "https://localhost:8080/"
        },
        "id": "-jcc32RJrgx-",
        "outputId": "ae03b9c7-83ea-4c1c-fecc-e80c8822cf10"
      },
      "execution_count": 99,
      "outputs": [
        {
          "output_type": "stream",
          "name": "stdout",
          "text": [
            "Количество вакансий для Data Scientist с ключевым навыком SQL или Postgres: 229\n"
          ]
        }
      ]
    },
    {
      "cell_type": "markdown",
      "source": [
        "6.4С помощью запроса, аналогичного предыдущему, проверьте, насколько популярен Python в требованиях работодателей к DS. Вычислите количество вакансий, в которых в качестве ключевого навыка указан Python.\n",
        "\n",
        "В качестве ответа запишите количество, которое вернул запрос."
      ],
      "metadata": {
        "id": "6rJB9R5RrzJC"
      }
    },
    {
      "cell_type": "code",
      "source": [
        "query = \"\"\"\n",
        "    SELECT\n",
        "        COUNT(*) as ds_python_vacancies\n",
        "    FROM\n",
        "        vacancies\n",
        "    WHERE\n",
        "        (LOWER(name) LIKE '%data scientist%' OR\n",
        "         LOWER(name) LIKE '%data science%' OR\n",
        "         LOWER(name) LIKE '%исследователь данных%' OR\n",
        "         (LOWER(name) LIKE '%ml%' AND LOWER(name) NOT LIKE '%html%') OR\n",
        "         LOWER(name) LIKE '%machine learning%' OR\n",
        "         LOWER(name) LIKE '%машинн%обучен%') AND\n",
        "        LOWER(key_skills) LIKE '%python%';\n",
        "\"\"\"\n",
        "cursor.execute(query)\n",
        "\n",
        "# Извлечение результата\n",
        "result = cursor.fetchone()\n",
        "\n",
        "# Закрытие курсора и соединения\n",
        "cursor.close()\n",
        "connection.close()\n",
        "\n",
        "# Печать результата\n",
        "if result:\n",
        "    ds_python_vacancies = result[0]\n",
        "    print(f\"Количество вакансий для Data Scientist с ключевым навыком Python: {ds_python_vacancies}\")\n",
        "else:\n",
        "    print(\"Не найдено данных\")"
      ],
      "metadata": {
        "colab": {
          "base_uri": "https://localhost:8080/"
        },
        "id": "42uF3V_Er2aM",
        "outputId": "2b154b0c-0d73-4c56-bffe-ee84635b05a2"
      },
      "execution_count": 102,
      "outputs": [
        {
          "output_type": "stream",
          "name": "stdout",
          "text": [
            "Количество вакансий для Data Scientist с ключевым навыком Python: 357\n"
          ]
        }
      ]
    },
    {
      "cell_type": "markdown",
      "source": [
        "6.5Сколько ключевых навыков в среднем указывают в вакансиях для DS?"
      ],
      "metadata": {
        "id": "ZBIPjtVdsP26"
      }
    },
    {
      "cell_type": "code",
      "source": [
        "query = \"\"\"\n",
        "    SELECT\n",
        "        AVG(LENGTH(key_skills) - LENGTH(REPLACE(key_skills, CHR(9), '')) + 1) as avg_skills\n",
        "    FROM\n",
        "        vacancies\n",
        "    WHERE\n",
        "        (LOWER(name) LIKE '%data scientist%' OR\n",
        "         LOWER(name) LIKE '%data science%' OR\n",
        "         LOWER(name) LIKE '%исследователь данных%' OR\n",
        "         (LOWER(name) LIKE '%ml%' AND LOWER(name) NOT LIKE '%html%') OR\n",
        "         LOWER(name) LIKE '%machine learning%' OR\n",
        "         LOWER(name) LIKE '%машинн%обучен%') AND\n",
        "         key_skills IS NOT NULL;\n",
        "\"\"\"\n",
        "cursor.execute(query)\n",
        "\n",
        "# Извлечение результата\n",
        "result = cursor.fetchone()\n",
        "\n",
        "# Закрытие курсора и соединения\n",
        "cursor.close()\n",
        "connection.close()\n",
        "\n",
        "# Печать результата\n",
        "if result:\n",
        "    avg_skills = result[0]\n",
        "    print(f\"Среднее количество ключевых навыков в вакансиях для Data Scientist: {avg_skills:.2f}\")\n",
        "else:\n",
        "    print(\"Не найдено данных\")"
      ],
      "metadata": {
        "colab": {
          "base_uri": "https://localhost:8080/"
        },
        "id": "Dg0si_27sQYO",
        "outputId": "c01f2c31-14c3-499f-b56a-345de3380861"
      },
      "execution_count": 104,
      "outputs": [
        {
          "output_type": "stream",
          "name": "stdout",
          "text": [
            "Среднее количество ключевых навыков в вакансиях для Data Scientist: 6.55\n"
          ]
        }
      ]
    },
    {
      "cell_type": "markdown",
      "source": [
        "6.6Напишите запрос, позволяющий вычислить, какую зарплату для DS в среднем указывают для каждого типа требуемого опыта (уникальное значение из поля experience).Выясните, на какую зарплату в среднем может рассчитывать дата-сайентист с опытом работы от 3 до 6 лет. Результат округлите до целого числа."
      ],
      "metadata": {
        "id": "In2IgXfHskM1"
      }
    },
    {
      "cell_type": "code",
      "source": [
        "query = \"\"\"\n",
        "    SELECT\n",
        "        experience,\n",
        "        ROUND(AVG(COALESCE((salary_from + salary_to) / 2, salary_from, salary_to))) as avg_salary\n",
        "    FROM\n",
        "        vacancies\n",
        "    WHERE\n",
        "        (LOWER(name) LIKE '%data scientist%' OR\n",
        "         LOWER(name) LIKE '%data science%' OR\n",
        "         LOWER(name) LIKE '%исследователь данных%' OR\n",
        "         (LOWER(name) LIKE '%ml%' AND LOWER(name) NOT LIKE '%html%') OR\n",
        "         LOWER(name) LIKE '%machine learning%' OR\n",
        "         LOWER(name) LIKE '%машинн%обучен%') AND\n",
        "        (salary_from IS NOT NULL OR salary_to IS NOT NULL)\n",
        "    GROUP BY\n",
        "        experience;\n",
        "\"\"\"\n",
        "cursor.execute(query)\n",
        "\n",
        "# Извлечение результата\n",
        "results = cursor.fetchall()\n",
        "\n",
        "# Закрытие курсора и соединения\n",
        "cursor.close()\n",
        "connection.close()\n",
        "\n",
        "# Печать результата\n",
        "for row in results:\n",
        "    print(f\"Опыт: {row[0]}, Средняя зарплата: {row[1]} руб.\")\n",
        "\n",
        "# Поиск средней зарплаты для опыта от 3 до 6 лет\n",
        "avg_salary_3_6_years = next((row[1] for row in results if row[0] == 'От 3 до 6 лет'), None)\n",
        "if avg_salary_3_6_years is not None:\n",
        "    print(f\"Средняя зарплата для Data Scientist с опытом работы от 3 до 6 лет: {avg_salary_3_6_years} руб.\")\n",
        "else:\n",
        "    print(\"Не найдено данных для опыта от 3 до 6 лет\")"
      ],
      "metadata": {
        "colab": {
          "base_uri": "https://localhost:8080/"
        },
        "id": "Jh5THSaxslHL",
        "outputId": "d76013f3-b01d-415a-cabc-66f3f3983a60"
      },
      "execution_count": 106,
      "outputs": [
        {
          "output_type": "stream",
          "name": "stdout",
          "text": [
            "Опыт: Более 6 лет, Средняя зарплата: 157933 руб.\n",
            "Опыт: От 3 до 6 лет, Средняя зарплата: 256454 руб.\n",
            "Опыт: Нет опыта, Средняя зарплата: 74643 руб.\n",
            "Опыт: От 1 года до 3 лет, Средняя зарплата: 144233 руб.\n",
            "Средняя зарплата для Data Scientist с опытом работы от 3 до 6 лет: 256454 руб.\n"
          ]
        }
      ]
    },
    {
      "cell_type": "markdown",
      "source": [
        "Выводы по заданиям 6.1 по 6.6:1771 вакансия относится к работе с данными.51 вакансия подходит для начинающего дата-сайентиста.229 вакансий требуют навыков SQL или Postgres.357 вакансий требуют навыков Python.В среднем указывают 6.55 ключевых навыков в вакансиях для Data Scientist.Средняя зарплата для Data Scientist с опытом от 3 до 6 лет составляет 256454 руб., что значительно выше по сравнению с другими категориями опыта."
      ],
      "metadata": {
        "id": "wyNissAGyfL1"
      }
    },
    {
      "cell_type": "markdown",
      "source": [
        "Общие выводы:На рынке труда преобладают вакансии с полным рабочим днем и полной занятостью.\n",
        "Удаленная работа также занимает значительное место, что отражает текущие тенденции на рынке труда.\n",
        "Москва и Санкт-Петербург являются основными центрами трудовой активности с наибольшим количеством вакансий.\n",
        "Другие крупные города, такие как Минск, Новосибирск и Алматы, также имеют значительное количество предложений.\n",
        "Большинство вакансий ориентированы на специалистов с опытом от 1 до 3 лет, что может указывать на высокий спрос на профессионалов среднего уровня.\n",
        "Высокий спрос на специалистов среднего уровня и недостаток вакансий для высококвалифицированных специалистов могут свидетельствовать о нехватке кадров с большим опытом.\n",
        "Преобладание вакансий в крупных городах указывает на концентрацию экономической активности и рабочих мест в этих регионах.\n",
        "Значительное количество вакансий в сфере разработки программного обеспечения подтверждает важность IT-сектора на современном рынке труда.\n",
        "Интерес к навыкам работы с данными, таким как SQL и Python, подчеркивает важность аналитических и технических компетенций в текущих рыночных условиях.\n",
        "Общий вывод: рынок труда активно развивается, с широким спектром предложений в различных регионах и сферах деятельности. При этом существует значительный спрос на специалистов с опытом от 1 до 3 лет, а также на IT-специалистов и аналитиков данных."
      ],
      "metadata": {
        "id": "q0eem8Wlyu0x"
      }
    }
  ]
}